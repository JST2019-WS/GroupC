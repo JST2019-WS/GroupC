{
 "cells": [
  {
   "cell_type": "code",
   "execution_count": 1,
   "metadata": {},
   "outputs": [],
   "source": [
    "import pandas as pd \n",
    "import pycountry"
   ]
  },
  {
   "cell_type": "code",
   "execution_count": 2,
   "metadata": {},
   "outputs": [],
   "source": [
    "data = pd.read_csv(\"userportfolio30d.csv\", header=None, names=[\"Username\", \"Security's Type\", \"WSO ID\", \"ISIN\", \"Security's Name\"]) "
   ]
  },
  {
   "cell_type": "markdown",
   "metadata": {},
   "source": [
    "__ISIN__ stands for International Securities Identification Number (ISIN). It is an international numbering system set up by the International Organization for Standardization (ISO) to number specific securities, such as stocks (equity and preference shares), bonds, options and futures."
   ]
  },
  {
   "cell_type": "code",
   "execution_count": 3,
   "metadata": {},
   "outputs": [
    {
     "data": {
      "text/html": [
       "<div>\n",
       "<style scoped>\n",
       "    .dataframe tbody tr th:only-of-type {\n",
       "        vertical-align: middle;\n",
       "    }\n",
       "\n",
       "    .dataframe tbody tr th {\n",
       "        vertical-align: top;\n",
       "    }\n",
       "\n",
       "    .dataframe thead th {\n",
       "        text-align: right;\n",
       "    }\n",
       "</style>\n",
       "<table border=\"1\" class=\"dataframe\">\n",
       "  <thead>\n",
       "    <tr style=\"text-align: right;\">\n",
       "      <th></th>\n",
       "      <th>Username</th>\n",
       "      <th>Security's Type</th>\n",
       "      <th>WSO ID</th>\n",
       "      <th>ISIN</th>\n",
       "      <th>Security's Name</th>\n",
       "    </tr>\n",
       "  </thead>\n",
       "  <tbody>\n",
       "    <tr>\n",
       "      <th>0</th>\n",
       "      <td>-SH-</td>\n",
       "      <td>STK</td>\n",
       "      <td>296843765</td>\n",
       "      <td>AT0000A21KS2</td>\n",
       "      <td>Immofinanz</td>\n",
       "    </tr>\n",
       "    <tr>\n",
       "      <th>1</th>\n",
       "      <td>-SH-</td>\n",
       "      <td>FND</td>\n",
       "      <td>14907</td>\n",
       "      <td>LU0128522157</td>\n",
       "      <td>Templeton Asian Growth A acc $</td>\n",
       "    </tr>\n",
       "    <tr>\n",
       "      <th>2</th>\n",
       "      <td>-SH-</td>\n",
       "      <td>FND</td>\n",
       "      <td>4415</td>\n",
       "      <td>LU0124384867</td>\n",
       "      <td>BGF New Energy A2 $</td>\n",
       "    </tr>\n",
       "    <tr>\n",
       "      <th>3</th>\n",
       "      <td>-SH-</td>\n",
       "      <td>FND</td>\n",
       "      <td>14944</td>\n",
       "      <td>LU0128526570</td>\n",
       "      <td>Templeton Latin America A acc $</td>\n",
       "    </tr>\n",
       "    <tr>\n",
       "      <th>4</th>\n",
       "      <td>007coolinvestor</td>\n",
       "      <td>STK</td>\n",
       "      <td>181746368</td>\n",
       "      <td>DE000A0L1H32</td>\n",
       "      <td>MPH Health Care</td>\n",
       "    </tr>\n",
       "    <tr>\n",
       "      <th>5</th>\n",
       "      <td>007coolinvestor</td>\n",
       "      <td>STK</td>\n",
       "      <td>1348</td>\n",
       "      <td>DE0005227235</td>\n",
       "      <td>Biotest</td>\n",
       "    </tr>\n",
       "    <tr>\n",
       "      <th>6</th>\n",
       "      <td>007coolinvestor</td>\n",
       "      <td>STK</td>\n",
       "      <td>222219608</td>\n",
       "      <td>US23284F1057</td>\n",
       "      <td>CytomX Therapeutics</td>\n",
       "    </tr>\n",
       "    <tr>\n",
       "      <th>7</th>\n",
       "      <td>007coolinvestor</td>\n",
       "      <td>STK</td>\n",
       "      <td>182256796</td>\n",
       "      <td>US19249H1032</td>\n",
       "      <td>Coherus BioSciences</td>\n",
       "    </tr>\n",
       "    <tr>\n",
       "      <th>8</th>\n",
       "      <td>007coolinvestor</td>\n",
       "      <td>STK</td>\n",
       "      <td>103631644</td>\n",
       "      <td>US0044491043</td>\n",
       "      <td>Achaogen</td>\n",
       "    </tr>\n",
       "    <tr>\n",
       "      <th>9</th>\n",
       "      <td>007coolinvestor</td>\n",
       "      <td>STK</td>\n",
       "      <td>16801</td>\n",
       "      <td>DE0006190705</td>\n",
       "      <td>HAEMATO</td>\n",
       "    </tr>\n",
       "  </tbody>\n",
       "</table>\n",
       "</div>"
      ],
      "text/plain": [
       "          Username Security's Type     WSO ID          ISIN  \\\n",
       "0             -SH-             STK  296843765  AT0000A21KS2   \n",
       "1             -SH-             FND      14907  LU0128522157   \n",
       "2             -SH-             FND       4415  LU0124384867   \n",
       "3             -SH-             FND      14944  LU0128526570   \n",
       "4  007coolinvestor             STK  181746368  DE000A0L1H32   \n",
       "5  007coolinvestor             STK       1348  DE0005227235   \n",
       "6  007coolinvestor             STK  222219608  US23284F1057   \n",
       "7  007coolinvestor             STK  182256796  US19249H1032   \n",
       "8  007coolinvestor             STK  103631644  US0044491043   \n",
       "9  007coolinvestor             STK      16801  DE0006190705   \n",
       "\n",
       "                   Security's Name  \n",
       "0                       Immofinanz  \n",
       "1   Templeton Asian Growth A acc $  \n",
       "2              BGF New Energy A2 $  \n",
       "3  Templeton Latin America A acc $  \n",
       "4                  MPH Health Care  \n",
       "5                          Biotest  \n",
       "6              CytomX Therapeutics  \n",
       "7              Coherus BioSciences  \n",
       "8                         Achaogen  \n",
       "9                          HAEMATO  "
      ]
     },
     "execution_count": 3,
     "metadata": {},
     "output_type": "execute_result"
    }
   ],
   "source": [
    "data.head(10)"
   ]
  },
  {
   "cell_type": "markdown",
   "metadata": {},
   "source": [
    "## Company Extraction"
   ]
  },
  {
   "cell_type": "markdown",
   "metadata": {},
   "source": [
    "__List of company names__"
   ]
  },
  {
   "cell_type": "code",
   "execution_count": 4,
   "metadata": {},
   "outputs": [],
   "source": [
    "companies = set(data[\"Security's Name\"])\n",
    "companies = {x for x in companies if x==x}"
   ]
  },
  {
   "cell_type": "code",
   "execution_count": 8,
   "metadata": {},
   "outputs": [],
   "source": [
    "count=0\n",
    "lstc = []\n",
    "for items in companies:\n",
    "    lstc.append(items)\n",
    "    count+=1\n",
    "    if count>20:\n",
    "        break"
   ]
  },
  {
   "cell_type": "code",
   "execution_count": 10,
   "metadata": {},
   "outputs": [
    {
     "name": "stdout",
     "output_type": "stream",
     "text": [
      "['Lear', 'Anglo American', 'UEX', 'QYOU Media', 'EURO STOXX Automobiles & Parts ESTX Aut&Prt EUR (Net Return) Index Zertifikat Open-End (HVB)', 'Janus Balanced A $ acc', 'Gold Endlos Turbo Long 931,11 Open-End (HSBC)', 'Capri Holdings', 'Amazon.com Call 1.720 bis 2020/06 (HSBC)', 'Xtrack II Euro Government Bond 15-30 ETF 1C', 'Commerzbank Call 20 bis 2019/06 (CITI)', 'Schoellerbank Aktienfonds Value T', 'Hamborner REIT', 'EUR/GBP Inline 0,81-0,93 bis 2019/06 (SG)', 'Dermapharm Holding', 'Silber 1 Unze Fixing Mini Future Long 12,20 Open-End (HVB)', 'Akumplast', 'China Health Group', 'Digital X', 'Wirecard Discount Call 144-149 bis 2019/07 (HVB)', 'LEONTEQ SECURITIES AG']\n"
     ]
    }
   ],
   "source": [
    "print(lstc)"
   ]
  },
  {
   "cell_type": "markdown",
   "metadata": {},
   "source": [
    "## Adding Country Column"
   ]
  },
  {
   "cell_type": "markdown",
   "metadata": {},
   "source": [
    "__List of country codes extracted from ISIN__"
   ]
  },
  {
   "cell_type": "code",
   "execution_count": 11,
   "metadata": {},
   "outputs": [],
   "source": [
    "countryLong = set(data[\"ISIN\"])"
   ]
  },
  {
   "cell_type": "code",
   "execution_count": 12,
   "metadata": {},
   "outputs": [],
   "source": [
    "countryLong = {x for x in countryLong if x==x}"
   ]
  },
  {
   "cell_type": "code",
   "execution_count": 13,
   "metadata": {},
   "outputs": [],
   "source": [
    "countries = []\n",
    "for items in countryLong:\n",
    "    countries.append(items[:2])"
   ]
  },
  {
   "cell_type": "code",
   "execution_count": 14,
   "metadata": {},
   "outputs": [],
   "source": [
    "distinctCountries = sorted(set(countries))"
   ]
  },
  {
   "cell_type": "code",
   "execution_count": 22,
   "metadata": {},
   "outputs": [
    {
     "name": "stdout",
     "output_type": "stream",
     "text": [
      "Distinct countries in the data -> 109\n"
     ]
    }
   ],
   "source": [
    "print(\"Distinct countries in the data ->\" ,len(distinctCountries))"
   ]
  },
  {
   "cell_type": "code",
   "execution_count": 16,
   "metadata": {},
   "outputs": [],
   "source": [
    "special_codes = {\n",
    "    'AN':'Netherlands Antilles',\n",
    "    'CS':'Serbia and Montenegro',\n",
    "    'EU':'European Union',\n",
    "    'ZR':'Zaire'\n",
    "}"
   ]
  },
  {
   "cell_type": "code",
   "execution_count": 17,
   "metadata": {},
   "outputs": [],
   "source": [
    "country_dict = {}\n",
    "deleted = []\n",
    "for i in distinctCountries:\n",
    "    try:\n",
    "        country = pycountry.countries.get(alpha_2=i.upper())\n",
    "        country_dict[i] = country.name\n",
    "    except:\n",
    "        try:\n",
    "            country_dict[i] = special_codes[i]\n",
    "        except:\n",
    "            country_dict[i] = 'UNKNOWN'\n",
    "            deleted.append(i)\n"
   ]
  },
  {
   "cell_type": "code",
   "execution_count": 18,
   "metadata": {},
   "outputs": [
    {
     "name": "stdout",
     "output_type": "stream",
     "text": [
      "Number of UNKNOWN Country codes -> 21\n"
     ]
    }
   ],
   "source": [
    "print(\"Number of UNKNOWN Country codes ->\", len(deleted))"
   ]
  },
  {
   "cell_type": "code",
   "execution_count": 19,
   "metadata": {},
   "outputs": [],
   "source": [
    "country_col = []\n",
    "count=0\n",
    "for items in data[\"ISIN\"]:\n",
    "    try:\n",
    "        if items[:2] in country_dict.keys():\n",
    "            country_col.append(country_dict[items[:2]])\n",
    "    except:\n",
    "        country_col.append('UNKNOWN')"
   ]
  },
  {
   "cell_type": "markdown",
   "metadata": {},
   "source": [
    "__Adding new column country in dataframe__"
   ]
  },
  {
   "cell_type": "code",
   "execution_count": 20,
   "metadata": {},
   "outputs": [],
   "source": [
    "data['Country'] = country_col"
   ]
  },
  {
   "cell_type": "code",
   "execution_count": 21,
   "metadata": {},
   "outputs": [
    {
     "data": {
      "text/html": [
       "<div>\n",
       "<style scoped>\n",
       "    .dataframe tbody tr th:only-of-type {\n",
       "        vertical-align: middle;\n",
       "    }\n",
       "\n",
       "    .dataframe tbody tr th {\n",
       "        vertical-align: top;\n",
       "    }\n",
       "\n",
       "    .dataframe thead th {\n",
       "        text-align: right;\n",
       "    }\n",
       "</style>\n",
       "<table border=\"1\" class=\"dataframe\">\n",
       "  <thead>\n",
       "    <tr style=\"text-align: right;\">\n",
       "      <th></th>\n",
       "      <th>Username</th>\n",
       "      <th>Security's Type</th>\n",
       "      <th>WSO ID</th>\n",
       "      <th>ISIN</th>\n",
       "      <th>Security's Name</th>\n",
       "      <th>Country</th>\n",
       "    </tr>\n",
       "  </thead>\n",
       "  <tbody>\n",
       "    <tr>\n",
       "      <th>0</th>\n",
       "      <td>-SH-</td>\n",
       "      <td>STK</td>\n",
       "      <td>296843765</td>\n",
       "      <td>AT0000A21KS2</td>\n",
       "      <td>Immofinanz</td>\n",
       "      <td>Austria</td>\n",
       "    </tr>\n",
       "    <tr>\n",
       "      <th>1</th>\n",
       "      <td>-SH-</td>\n",
       "      <td>FND</td>\n",
       "      <td>14907</td>\n",
       "      <td>LU0128522157</td>\n",
       "      <td>Templeton Asian Growth A acc $</td>\n",
       "      <td>Luxembourg</td>\n",
       "    </tr>\n",
       "    <tr>\n",
       "      <th>2</th>\n",
       "      <td>-SH-</td>\n",
       "      <td>FND</td>\n",
       "      <td>4415</td>\n",
       "      <td>LU0124384867</td>\n",
       "      <td>BGF New Energy A2 $</td>\n",
       "      <td>Luxembourg</td>\n",
       "    </tr>\n",
       "    <tr>\n",
       "      <th>3</th>\n",
       "      <td>-SH-</td>\n",
       "      <td>FND</td>\n",
       "      <td>14944</td>\n",
       "      <td>LU0128526570</td>\n",
       "      <td>Templeton Latin America A acc $</td>\n",
       "      <td>Luxembourg</td>\n",
       "    </tr>\n",
       "    <tr>\n",
       "      <th>4</th>\n",
       "      <td>007coolinvestor</td>\n",
       "      <td>STK</td>\n",
       "      <td>181746368</td>\n",
       "      <td>DE000A0L1H32</td>\n",
       "      <td>MPH Health Care</td>\n",
       "      <td>Germany</td>\n",
       "    </tr>\n",
       "    <tr>\n",
       "      <th>5</th>\n",
       "      <td>007coolinvestor</td>\n",
       "      <td>STK</td>\n",
       "      <td>1348</td>\n",
       "      <td>DE0005227235</td>\n",
       "      <td>Biotest</td>\n",
       "      <td>Germany</td>\n",
       "    </tr>\n",
       "    <tr>\n",
       "      <th>6</th>\n",
       "      <td>007coolinvestor</td>\n",
       "      <td>STK</td>\n",
       "      <td>222219608</td>\n",
       "      <td>US23284F1057</td>\n",
       "      <td>CytomX Therapeutics</td>\n",
       "      <td>United States</td>\n",
       "    </tr>\n",
       "    <tr>\n",
       "      <th>7</th>\n",
       "      <td>007coolinvestor</td>\n",
       "      <td>STK</td>\n",
       "      <td>182256796</td>\n",
       "      <td>US19249H1032</td>\n",
       "      <td>Coherus BioSciences</td>\n",
       "      <td>United States</td>\n",
       "    </tr>\n",
       "    <tr>\n",
       "      <th>8</th>\n",
       "      <td>007coolinvestor</td>\n",
       "      <td>STK</td>\n",
       "      <td>103631644</td>\n",
       "      <td>US0044491043</td>\n",
       "      <td>Achaogen</td>\n",
       "      <td>United States</td>\n",
       "    </tr>\n",
       "    <tr>\n",
       "      <th>9</th>\n",
       "      <td>007coolinvestor</td>\n",
       "      <td>STK</td>\n",
       "      <td>16801</td>\n",
       "      <td>DE0006190705</td>\n",
       "      <td>HAEMATO</td>\n",
       "      <td>Germany</td>\n",
       "    </tr>\n",
       "  </tbody>\n",
       "</table>\n",
       "</div>"
      ],
      "text/plain": [
       "          Username Security's Type     WSO ID          ISIN  \\\n",
       "0             -SH-             STK  296843765  AT0000A21KS2   \n",
       "1             -SH-             FND      14907  LU0128522157   \n",
       "2             -SH-             FND       4415  LU0124384867   \n",
       "3             -SH-             FND      14944  LU0128526570   \n",
       "4  007coolinvestor             STK  181746368  DE000A0L1H32   \n",
       "5  007coolinvestor             STK       1348  DE0005227235   \n",
       "6  007coolinvestor             STK  222219608  US23284F1057   \n",
       "7  007coolinvestor             STK  182256796  US19249H1032   \n",
       "8  007coolinvestor             STK  103631644  US0044491043   \n",
       "9  007coolinvestor             STK      16801  DE0006190705   \n",
       "\n",
       "                   Security's Name        Country  \n",
       "0                       Immofinanz        Austria  \n",
       "1   Templeton Asian Growth A acc $     Luxembourg  \n",
       "2              BGF New Energy A2 $     Luxembourg  \n",
       "3  Templeton Latin America A acc $     Luxembourg  \n",
       "4                  MPH Health Care        Germany  \n",
       "5                          Biotest        Germany  \n",
       "6              CytomX Therapeutics  United States  \n",
       "7              Coherus BioSciences  United States  \n",
       "8                         Achaogen  United States  \n",
       "9                          HAEMATO        Germany  "
      ]
     },
     "execution_count": 21,
     "metadata": {},
     "output_type": "execute_result"
    }
   ],
   "source": [
    "data.head(10)"
   ]
  },
  {
   "cell_type": "code",
   "execution_count": null,
   "metadata": {},
   "outputs": [],
   "source": []
  }
 ],
 "metadata": {
  "kernelspec": {
   "display_name": "Python 3",
   "language": "python",
   "name": "python3"
  },
  "language_info": {
   "codemirror_mode": {
    "name": "ipython",
    "version": 3
   },
   "file_extension": ".py",
   "mimetype": "text/x-python",
   "name": "python",
   "nbconvert_exporter": "python",
   "pygments_lexer": "ipython3",
   "version": "3.7.3"
  }
 },
 "nbformat": 4,
 "nbformat_minor": 2
}
